{
 "cells": [
  {
   "cell_type": "code",
   "execution_count": 1,
   "metadata": {
    "collapsed": true
   },
   "outputs": [],
   "source": [
    "import aiohttp\n",
    "import asyncio\n",
    "from io import BytesIO, TextIOWrapper\n",
    "import zipfile\n",
    "import re"
   ]
  },
  {
   "cell_type": "markdown",
   "metadata": {},
   "source": [
    "You can get a reading-friendly version at <https://ebooks.adelaide.edu.au/o/orwell/george/o79n/>"
   ]
  },
  {
   "cell_type": "code",
   "execution_count": 2,
   "metadata": {
    "collapsed": true
   },
   "outputs": [],
   "source": [
    "zip_1984_url = 'http://gutenberg.net.au/ebooks01/0100021.zip'"
   ]
  },
  {
   "cell_type": "code",
   "execution_count": 3,
   "metadata": {
    "collapsed": false
   },
   "outputs": [],
   "source": [
    "@asyncio.coroutine\n",
    "def get_zip(url):\n",
    "    r = yield from aiohttp.request('get', url)\n",
    "    if r.status == 200:\n",
    "        zip_bytes = yield from r.read_and_close()\n",
    "        return zip_bytes\n",
    "    raise ValueError('Fetching url %s failed beacuse %s'\n",
    "                     % (url, r.reason))\n",
    "\n",
    "def read_zip_txt(zip_bytes):\n",
    "    with zipfile.ZipFile(BytesIO(zip_bytes), 'r') as myzip:\n",
    "        txt_files = [pth for pth in myzip.namelist() if pth.endswith('.txt')]\n",
    "        for txt_pth in txt_files:\n",
    "            with TextIOWrapper(myzip.open(txt_pth, 'r')) as txt_f:\n",
    "                yield txt_f.read()"
   ]
  },
  {
   "cell_type": "code",
   "execution_count": 4,
   "metadata": {
    "collapsed": false
   },
   "outputs": [],
   "source": [
    "loop = asyncio.get_event_loop()\n",
    "r = loop.run_until_complete(get_zip(zip_1984_url))"
   ]
  },
  {
   "cell_type": "code",
   "execution_count": 5,
   "metadata": {
    "collapsed": false
   },
   "outputs": [],
   "source": [
    "txt_1984 = next(read_zip_txt(r))"
   ]
  },
  {
   "cell_type": "code",
   "execution_count": 6,
   "metadata": {
    "collapsed": true
   },
   "outputs": [],
   "source": [
    "start_of_part = re.compile(r'^\\s*PART [A-Z]+\\s*$').match\n",
    "start_of_chapter = re.compile(r'\\s*Chapter [0-9]+\\s*$').match\n",
    "end_of_content = re.compile(r'\\s*THE END\\s*$').match"
   ]
  },
  {
   "cell_type": "code",
   "execution_count": 7,
   "metadata": {
    "collapsed": false
   },
   "outputs": [
    {
     "name": "stdout",
     "output_type": "stream",
     "text": [
      "Start reading the book\n",
      "Closing part 1 with 8 chapters\n",
      "Closing part 2 with 9 chapters\n",
      "Closing part 3 with 6 chpaters\n",
      "Book ends\n"
     ]
    }
   ],
   "source": [
    "cur_part = 0\n",
    "cur_chpater = 0\n",
    "chapters = {}\n",
    "\n",
    "for line in txt_1984.split('\\n\\n'):\n",
    "    if start_of_part(line):\n",
    "        if cur_part == 0:\n",
    "            print('Start reading the book')\n",
    "            chapter_paragraphs = []\n",
    "        else:\n",
    "            # close last chapter of the last part\n",
    "            chapters[(cur_part, cur_chapter)] = chapter_paragraphs\n",
    "            chapter_paragraphs = []\n",
    "            print('Closing part %d with %d chapters' % (cur_part, cur_chapter))\n",
    "        cur_part += 1\n",
    "        cur_chapter = 0\n",
    "    elif start_of_chapter(line):\n",
    "        if cur_chapter > 0:\n",
    "            # sotre the chapter's paragraphs\n",
    "            chapters[(cur_part, cur_chapter)] = chapter_paragraphs\n",
    "            chapter_paragraphs = []\n",
    "        cur_chapter += 1\n",
    "    elif end_of_content(line):\n",
    "        # the final chapter of the final part\n",
    "        # Yes, we skipped the APPENDIX\n",
    "        chapters[(cur_part, cur_chapter)] = chapter_paragraphs\n",
    "        print('Closing part %d with %d chpaters' % (cur_part, cur_chapter))\n",
    "        print('Book ends')\n",
    "        break\n",
    "    elif cur_part > 0 and line:\n",
    "        chapter_paragraphs.append(line.replace('\\n', ' '))"
   ]
  },
  {
   "cell_type": "code",
   "execution_count": 8,
   "metadata": {
    "collapsed": false
   },
   "outputs": [
    {
     "data": {
      "text/plain": [
       "23"
      ]
     },
     "execution_count": 8,
     "metadata": {},
     "output_type": "execute_result"
    }
   ],
   "source": [
    "len(chapters)"
   ]
  },
  {
   "cell_type": "code",
   "execution_count": 9,
   "metadata": {
    "collapsed": false
   },
   "outputs": [
    {
     "data": {
      "text/plain": [
       "[(1, 1),\n",
       " (1, 2),\n",
       " (1, 3),\n",
       " (1, 4),\n",
       " (1, 5),\n",
       " (1, 6),\n",
       " (1, 7),\n",
       " (1, 8),\n",
       " (2, 1),\n",
       " (2, 2),\n",
       " (2, 3),\n",
       " (2, 4),\n",
       " (2, 5),\n",
       " (2, 6),\n",
       " (2, 7),\n",
       " (2, 8),\n",
       " (2, 9),\n",
       " (3, 1),\n",
       " (3, 2),\n",
       " (3, 3),\n",
       " (3, 4),\n",
       " (3, 5),\n",
       " (3, 6)]"
      ]
     },
     "execution_count": 9,
     "metadata": {},
     "output_type": "execute_result"
    }
   ],
   "source": [
    "list(sorted(chapters))"
   ]
  },
  {
   "cell_type": "code",
   "execution_count": 14,
   "metadata": {
    "collapsed": false
   },
   "outputs": [
    {
     "data": {
      "text/plain": [
       "'Total paragraphs: 1290'"
      ]
     },
     "execution_count": 14,
     "metadata": {},
     "output_type": "execute_result"
    }
   ],
   "source": [
    "'Total paragraphs: %d' % sum(map(len, chapters.values()))"
   ]
  },
  {
   "cell_type": "code",
   "execution_count": null,
   "metadata": {
    "collapsed": true
   },
   "outputs": [],
   "source": []
  }
 ],
 "metadata": {
  "kernelspec": {
   "display_name": "Python 3",
   "language": "python",
   "name": "python3"
  },
  "language_info": {
   "codemirror_mode": {
    "name": "ipython",
    "version": 3
   },
   "file_extension": ".py",
   "mimetype": "text/x-python",
   "name": "python",
   "nbconvert_exporter": "python",
   "pygments_lexer": "ipython3",
   "version": "3.4.3"
  }
 },
 "nbformat": 4,
 "nbformat_minor": 0
}
