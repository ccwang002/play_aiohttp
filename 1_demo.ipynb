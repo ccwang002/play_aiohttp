{
 "cells": [
  {
   "cell_type": "code",
   "execution_count": null,
   "metadata": {
    "collapsed": false
   },
   "outputs": [],
   "source": [
    "import aiohttp\n",
    "import asyncio\n",
    "import json\n",
    "import logging\n",
    "\n",
    "from IPython.html import widgets\n",
    "from IPython.display import display as ipydisplay\n",
    "\n",
    "from utils import colorify_log_handler"
   ]
  },
  {
   "cell_type": "code",
   "execution_count": null,
   "metadata": {
    "collapsed": true
   },
   "outputs": [],
   "source": [
    "colorify_log_handler(\n",
    "    logging.getLogger().handlers[0],  # IPython by default inject one\n",
    "    log_lineno = False,\n",
    "    time_fmt = '%H:%M:%S'\n",
    ")\n",
    "\n",
    "logger = logging.getLogger('bench_rest_api')\n",
    "logger.setLevel(logging.DEBUG)\n",
    "\n",
    "logging.getLogger('asyncio').setLevel(logging.DEBUG)"
   ]
  },
  {
   "cell_type": "code",
   "execution_count": null,
   "metadata": {
    "collapsed": false
   },
   "outputs": [],
   "source": [
    "logger.info('This is info')\n",
    "logger.debug('我會說中文喔')\n",
    "logger.error('……人家不是喜歡才跟你講話的喔')\n",
    "logger.warning('笨蛋')"
   ]
  },
  {
   "cell_type": "code",
   "execution_count": null,
   "metadata": {
    "collapsed": false
   },
   "outputs": [],
   "source": [
    "!curl -s -XGET \"http://localhost:5566/\" | python -m json.tool"
   ]
  },
  {
   "cell_type": "code",
   "execution_count": null,
   "metadata": {
    "collapsed": false
   },
   "outputs": [],
   "source": [
    "!curl -s -XGET \"http://localhost:5566/quote/uniform\" | python -m json.tool"
   ]
  },
  {
   "cell_type": "code",
   "execution_count": null,
   "metadata": {
    "collapsed": false
   },
   "outputs": [],
   "source": [
    "%%bash\n",
    "\n",
    "ab -c 10 -n 10 \"http://localhost:5566/quote?slow=true\""
   ]
  },
  {
   "cell_type": "markdown",
   "metadata": {},
   "source": [
    "## Basic"
   ]
  },
  {
   "cell_type": "code",
   "execution_count": null,
   "metadata": {
    "collapsed": false
   },
   "outputs": [],
   "source": [
    "@asyncio.coroutine\n",
    "def quote_simple(url='http://localhost:5566/quote/uniform', slow=False):\n",
    "    r = yield from aiohttp.request(\n",
    "        'GET', url, params={'slow': True} if slow else {}\n",
    "    )\n",
    "    if r.status != 200:\n",
    "        logger.error('Unsuccessful response [Status: %s (%d)]' \n",
    "                     % (r.reason, r.status))\n",
    "        r.close(force=True)\n",
    "        return None\n",
    "    quote_json = yield from r.json()\n",
    "    return quote_json['quote']"
   ]
  },
  {
   "cell_type": "code",
   "execution_count": null,
   "metadata": {
    "collapsed": false
   },
   "outputs": [],
   "source": [
    "loop = asyncio.get_event_loop()"
   ]
  },
  {
   "cell_type": "markdown",
   "metadata": {},
   "source": [
    "To run a simple asyncio corountine."
   ]
  },
  {
   "cell_type": "code",
   "execution_count": null,
   "metadata": {
    "collapsed": false
   },
   "outputs": [],
   "source": [
    "coro = quote_simple()\n",
    "quote = loop.run_until_complete(coro)\n",
    "quote"
   ]
  },
  {
   "cell_type": "markdown",
   "metadata": {},
   "source": [
    "Internally asyncio wraps it with [`asyncio.Task`].\n",
    "So the following works equivalently.\n",
    "\n",
    "[`asyncio.Task`]:  https://docs.python.org/3.4/library/asyncio-task.html#asyncio.Task"
   ]
  },
  {
   "cell_type": "code",
   "execution_count": null,
   "metadata": {
    "collapsed": false
   },
   "outputs": [],
   "source": [
    "task = asyncio.Task(quote_simple())\n",
    "quote = loop.run_until_complete(task)\n",
    "quote"
   ]
  },
  {
   "cell_type": "markdown",
   "metadata": {},
   "source": [
    "However, `coro` is `corountine`, and `task` is `Task` (subclass of [`Future`]).\n",
    "\n",
    "One can use `asyncio.ensure_future` to make sure having a Future obj returned.\n",
    "\n",
    "[`Future`]: https://docs.python.org/3.4/library/asyncio-task.html#asyncio.Future"
   ]
  },
  {
   "cell_type": "code",
   "execution_count": null,
   "metadata": {
    "collapsed": false
   },
   "outputs": [],
   "source": [
    "type(coro), type(task)"
   ]
  },
  {
   "cell_type": "markdown",
   "metadata": {},
   "source": [
    "Passing wrong URL gives error"
   ]
  },
  {
   "cell_type": "code",
   "execution_count": null,
   "metadata": {
    "collapsed": false
   },
   "outputs": [],
   "source": [
    "quote = loop.run_until_complete(\n",
    "    quote_simple(url='http://localhost:5566/quote/uniform?part=100')\n",
    ")"
   ]
  },
  {
   "cell_type": "markdown",
   "metadata": {},
   "source": [
    "### Multiple Concurrent Requests"
   ]
  },
  {
   "cell_type": "code",
   "execution_count": null,
   "metadata": {
    "collapsed": false
   },
   "outputs": [],
   "source": [
    "@asyncio.coroutine\n",
    "def quote_many_naive(num_quotes=1):\n",
    "    coroutines = [\n",
    "        quote_simple(slow=True) for i in range(num_quotes)\n",
    "    ]\n",
    "    quotes = yield from (asyncio.gather(*coroutines))\n",
    "    return quotes"
   ]
  },
  {
   "cell_type": "code",
   "execution_count": null,
   "metadata": {
    "collapsed": false
   },
   "outputs": [],
   "source": [
    "%%time\n",
    "quotes = loop.run_until_complete(quote_many_naive(500))"
   ]
  },
  {
   "cell_type": "markdown",
   "metadata": {},
   "source": [
    "This is not helping since we open 500 connections at a time. It is slower than expected."
   ]
  },
  {
   "cell_type": "markdown",
   "metadata": {},
   "source": [
    "### Limiting connection pool size\n",
    "\n",
    "Ref on [official site](http://aiohttp.readthedocs.org/en/latest/client.html#limiting-connection-pool-size)."
   ]
  },
  {
   "cell_type": "code",
   "execution_count": null,
   "metadata": {
    "collapsed": false
   },
   "outputs": [],
   "source": [
    "@asyncio.coroutine\n",
    "def quote(conn, url='http://localhost:5566/quote/uniform', slow=False):\n",
    "    r = yield from aiohttp.request(\n",
    "        'GET', url, params={'slow': True} if slow else {},\n",
    "        connector=conn\n",
    "    )\n",
    "    if r.status != 200:\n",
    "        logger.error('Unsuccessful response [Status: %s (%d)]' \n",
    "                     % (r.reason, r.status))\n",
    "        r.close(force=True)\n",
    "        return None\n",
    "    quote_json = yield from r.json()\n",
    "    r.close(force=True)\n",
    "    return quote_json['quote']\n",
    "\n",
    "@asyncio.coroutine\n",
    "def quote_many(num_quotes=1, conn_limit=20):\n",
    "    conn = aiohttp.TCPConnector(keepalive_timeout=1, force_close=True, limit=conn_limit)\n",
    "    coroutines = [\n",
    "        quote(conn) for i in range(num_quotes)\n",
    "    ]\n",
    "    quotes = yield from (asyncio.gather(*coroutines))\n",
    "    return quotes"
   ]
  },
  {
   "cell_type": "code",
   "execution_count": null,
   "metadata": {
    "collapsed": false
   },
   "outputs": [],
   "source": [
    "%%time\n",
    "quotes = loop.run_until_complete(quote_many(2000, conn_limit=50))"
   ]
  },
  {
   "cell_type": "code",
   "execution_count": null,
   "metadata": {
    "collapsed": false
   },
   "outputs": [],
   "source": [
    "def quote_with_lock(semaphore, url='http://localhost:5566/quote/uniform'):\n",
    "    with (yield from semaphore):\n",
    "        r = yield from aiohttp.request('GET', url)\n",
    "        if r.status != 200:\n",
    "            logger.error('Unsuccessful response [Status: %s (%d)]' \n",
    "                         % (r.reason, r.status))\n",
    "            r.close(force=True)\n",
    "            return None\n",
    "    quote_json = yield from r.json()\n",
    "    r.close(force=True)\n",
    "    return quote_json['quote']\n",
    "\n",
    "@asyncio.coroutine\n",
    "def quote_many(num_quotes=1, conn_limit=20):\n",
    "    semaphore = asyncio.Semaphore(conn_limit)\n",
    "    coroutines = [\n",
    "        quote_with_lock(semaphore) for i in range(num_quotes)\n",
    "    ]\n",
    "    quotes = yield from (asyncio.gather(*coroutines))\n",
    "    return quotes"
   ]
  },
  {
   "cell_type": "code",
   "execution_count": null,
   "metadata": {
    "collapsed": false
   },
   "outputs": [],
   "source": [
    "%%time\n",
    "quotes = loop.run_until_complete(quote_many(2000, conn_limit=50))"
   ]
  },
  {
   "cell_type": "code",
   "execution_count": null,
   "metadata": {
    "collapsed": true
   },
   "outputs": [],
   "source": []
  }
 ],
 "metadata": {
  "kernelspec": {
   "display_name": "Python 3",
   "language": "python",
   "name": "python3"
  },
  "language_info": {
   "codemirror_mode": {
    "name": "ipython",
    "version": 3
   },
   "file_extension": ".py",
   "mimetype": "text/x-python",
   "name": "python",
   "nbconvert_exporter": "python",
   "pygments_lexer": "ipython3",
   "version": "3.4.3"
  }
 },
 "nbformat": 4,
 "nbformat_minor": 0
}
