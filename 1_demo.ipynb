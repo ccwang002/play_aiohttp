{
 "cells": [
  {
   "cell_type": "code",
   "execution_count": 1,
   "metadata": {
    "collapsed": false
   },
   "outputs": [
    {
     "name": "stderr",
     "output_type": "stream",
     "text": [
      ":0: FutureWarning: IPython widgets are experimental and may change in the future.\n"
     ]
    }
   ],
   "source": [
    "import aiohttp\n",
    "import asyncio\n",
    "import json\n",
    "import logging\n",
    "\n",
    "from IPython.html import widgets\n",
    "from IPython.display import display as ipydisplay\n",
    "\n",
    "from utils import colorify_log_handler"
   ]
  },
  {
   "cell_type": "code",
   "execution_count": 2,
   "metadata": {
    "collapsed": true
   },
   "outputs": [],
   "source": [
    "colorify_log_handler(\n",
    "    logging.getLogger().handlers[0],  # IPython by default inject one\n",
    "    log_lineno = False,\n",
    "    time_fmt = '%H:%M:%S'\n",
    ")\n",
    "\n",
    "logger = logging.getLogger('bench_rest_api')\n",
    "logger.setLevel(logging.DEBUG)\n",
    "\n",
    "logging.getLogger('asyncio').setLevel(logging.DEBUG)"
   ]
  },
  {
   "cell_type": "code",
   "execution_count": 3,
   "metadata": {
    "collapsed": false
   },
   "outputs": [
    {
     "name": "stderr",
     "output_type": "stream",
     "text": [
      "\u001b[01;32m00:18:39.806 I\u001b[0m \u001b[36m[bench_rest_api <module>]\u001b[0m This is info\u001b[0m\n",
      "\u001b[37m00:18:39.806 D\u001b[0m \u001b[36m[bench_rest_api <module>]\u001b[0m 我會說中文喔\u001b[0m\n",
      "\u001b[01;31m00:18:39.807 E\u001b[0m \u001b[36m[bench_rest_api <module>]\u001b[0m ……人家不是喜歡才跟你講話的喔\u001b[0m\n",
      "\u001b[01;33m00:18:39.807 W\u001b[0m \u001b[36m[bench_rest_api <module>]\u001b[0m 笨蛋\u001b[0m\n"
     ]
    }
   ],
   "source": [
    "logger.info('This is info')\n",
    "logger.debug('我會說中文喔')\n",
    "logger.error('……人家不是喜歡才跟你講話的喔')\n",
    "logger.warning('笨蛋')"
   ]
  },
  {
   "cell_type": "code",
   "execution_count": 4,
   "metadata": {
    "collapsed": false
   },
   "outputs": [
    {
     "name": "stdout",
     "output_type": "stream",
     "text": [
      "{\r\n",
      "    \"env_details\": {\r\n",
      "        \"num_process\": 1,\r\n",
      "        \"quotes_pikle_pth\": \"parsed_1984.pkl\"\r\n",
      "    },\r\n",
      "    \"version\": \"2015.7\"\r\n",
      "}\r\n"
     ]
    }
   ],
   "source": [
    "!curl -s -XGET \"http://localhost:5566/\" | python -m json.tool"
   ]
  },
  {
   "cell_type": "code",
   "execution_count": 5,
   "metadata": {
    "collapsed": false
   },
   "outputs": [
    {
     "name": "stdout",
     "output_type": "stream",
     "text": [
      "{\r\n",
      "    \"quote\": \"'Nonsense. You are under the impression that hatred is more exhausting than love. Why should it be? And if it were, what difference would that make? Suppose that we choose to wear ourselves out faster. Suppose that we quicken the tempo of human life till men are senile at thirty. Still what difference would it make? Can you not understand that the death of the individual is not death? The party is immortal.'\"\r\n",
      "}\r\n"
     ]
    }
   ],
   "source": [
    "!curl -s -XGET \"http://localhost:5566/quote/uniform\" | python -m json.tool"
   ]
  },
  {
   "cell_type": "code",
   "execution_count": 6,
   "metadata": {
    "collapsed": false
   },
   "outputs": [
    {
     "name": "stdout",
     "output_type": "stream",
     "text": [
      "This is ApacheBench, Version 2.3 <$Revision: 1604373 $>\n",
      "Copyright 1996 Adam Twiss, Zeus Technology Ltd, http://www.zeustech.net/\n",
      "Licensed to The Apache Software Foundation, http://www.apache.org/\n",
      "\n",
      "Benchmarking localhost (be patient).....done\n",
      "\n",
      "\n",
      "Server Software:        TornadoServer/4.2\n",
      "Server Hostname:        localhost\n",
      "Server Port:            5566\n",
      "\n",
      "Document Path:          /quote?slow=true\n",
      "Document Length:        275 bytes\n",
      "\n",
      "Concurrency Level:      10\n",
      "Time taken for tests:   0.507 seconds\n",
      "Complete requests:      10\n",
      "Failed requests:        9\n",
      "   (Connect: 0, Receive: 0, Length: 9, Exceptions: 0)\n",
      "Total transferred:      5303 bytes\n",
      "HTML transferred:       3293 bytes\n",
      "Requests per second:    19.71 [#/sec] (mean)\n",
      "Time per request:       507.339 [ms] (mean)\n",
      "Time per request:       50.734 [ms] (mean, across all concurrent requests)\n",
      "Transfer rate:          10.21 [Kbytes/sec] received\n",
      "\n",
      "Connection Times (ms)\n",
      "              min  mean[+/-sd] median   max\n",
      "Connect:        0    0   0.0      0       0\n",
      "Processing:   502  504   2.0    505     507\n",
      "Waiting:      502  504   2.0    505     507\n",
      "Total:        502  505   2.0    505     507\n",
      "\n",
      "Percentage of the requests served within a certain time (ms)\n",
      "  50%    505\n",
      "  66%    506\n",
      "  75%    506\n",
      "  80%    507\n",
      "  90%    507\n",
      "  95%    507\n",
      "  98%    507\n",
      "  99%    507\n",
      " 100%    507 (longest request)\n"
     ]
    }
   ],
   "source": [
    "%%bash\n",
    "\n",
    "ab -c 10 -n 10 \"http://localhost:5566/quote?slow=true\""
   ]
  },
  {
   "cell_type": "markdown",
   "metadata": {},
   "source": [
    "## Basic"
   ]
  },
  {
   "cell_type": "code",
   "execution_count": 7,
   "metadata": {
    "collapsed": false
   },
   "outputs": [],
   "source": [
    "@asyncio.coroutine\n",
    "def quote_simple(url='http://localhost:5566/quote/uniform', slow=False):\n",
    "    r = yield from aiohttp.request(\n",
    "        'GET', url, params={'slow': True} if slow else {}\n",
    "    )\n",
    "    if r.status != 200:\n",
    "        logger.error('Unsuccessful response [Status: %s (%d)]' \n",
    "                     % (r.reason, r.status))\n",
    "        r.close(force=True)\n",
    "        return None\n",
    "    quote_json = yield from r.json()\n",
    "    return quote_json['quote']"
   ]
  },
  {
   "cell_type": "code",
   "execution_count": 8,
   "metadata": {
    "collapsed": false
   },
   "outputs": [
    {
     "name": "stderr",
     "output_type": "stream",
     "text": [
      "\u001b[37m00:18:40.617 D\u001b[0m \u001b[36m[asyncio __init__]\u001b[0m Using selector: EpollSelector\u001b[0m\n"
     ]
    }
   ],
   "source": [
    "loop = asyncio.get_event_loop()"
   ]
  },
  {
   "cell_type": "markdown",
   "metadata": {},
   "source": [
    "To run a simple asyncio corountine."
   ]
  },
  {
   "cell_type": "code",
   "execution_count": 9,
   "metadata": {
    "collapsed": false
   },
   "outputs": [
    {
     "data": {
      "text/plain": [
       "\"'When I was arrested, Oceania was at war with Eastasia.'\""
      ]
     },
     "execution_count": 9,
     "metadata": {},
     "output_type": "execute_result"
    }
   ],
   "source": [
    "coro = quote_simple()\n",
    "quote = loop.run_until_complete(coro)\n",
    "quote"
   ]
  },
  {
   "cell_type": "markdown",
   "metadata": {},
   "source": [
    "Internally asyncio wraps it with [`asyncio.Task`].\n",
    "So the following works equivalently.\n",
    "\n",
    "[`asyncio.Task`]:  https://docs.python.org/3.4/library/asyncio-task.html#asyncio.Task"
   ]
  },
  {
   "cell_type": "code",
   "execution_count": 10,
   "metadata": {
    "collapsed": false
   },
   "outputs": [
    {
     "data": {
      "text/plain": [
       "'In past ages, a war, almost by definition, was something that sooner or later came to an end, usually in unmistakable victory or defeat. In the past, also, war was one of the main instruments by which human societies were kept in touch with physical reality. All rulers in all ages have tried to impose a false view of the world upon their followers, but they could not afford to encourage any illusion that tended to impair military efficiency. So long as defeat meant the loss of independence, or some other result generally held to be undesirable, the precautions against defeat had to be serious. Physical facts could not be ignored. In philosophy, or religion, or ethics, or politics, two and two might make five, but when one was designing a gun or an aeroplane they had to make four. Inefficient nations were always conquered sooner or later, and the struggle for efficiency was inimical to illusions. Moreover, to be efficient it was necessary to be able to learn from the past, which meant having a fairly accurate idea of what had happened in the past. Newspapers and history books were, of course, always coloured and biased, but falsification of the kind that is practised today would have been impossible. War was a sure safeguard of sanity, and so far as the ruling classes were concerned it was probably the most important of all safeguards. While wars could be won or lost, no ruling class could be completely irresponsible.'"
      ]
     },
     "execution_count": 10,
     "metadata": {},
     "output_type": "execute_result"
    }
   ],
   "source": [
    "task = asyncio.Task(quote_simple())\n",
    "quote = loop.run_until_complete(task)\n",
    "quote"
   ]
  },
  {
   "cell_type": "markdown",
   "metadata": {},
   "source": [
    "However, `coro` is `corountine`, and `task` is `Task` (subclass of [`Future`]).\n",
    "\n",
    "One can use `asyncio.ensure_future` to make sure having a Future obj returned.\n",
    "\n",
    "[`Future`]: https://docs.python.org/3.4/library/asyncio-task.html#asyncio.Future"
   ]
  },
  {
   "cell_type": "code",
   "execution_count": 11,
   "metadata": {
    "collapsed": false
   },
   "outputs": [
    {
     "data": {
      "text/plain": [
       "(generator, asyncio.tasks.Task)"
      ]
     },
     "execution_count": 11,
     "metadata": {},
     "output_type": "execute_result"
    }
   ],
   "source": [
    "type(coro), type(task)"
   ]
  },
  {
   "cell_type": "markdown",
   "metadata": {},
   "source": [
    "Passing wrong URL gives error"
   ]
  },
  {
   "cell_type": "code",
   "execution_count": 12,
   "metadata": {
    "collapsed": false
   },
   "outputs": [
    {
     "name": "stderr",
     "output_type": "stream",
     "text": [
      "\u001b[01;31m00:18:40.649 E\u001b[0m \u001b[36m[bench_rest_api quote_simple]\u001b[0m Unsuccessful response [Status: Bad Request (400)]\u001b[0m\n"
     ]
    }
   ],
   "source": [
    "quote = loop.run_until_complete(\n",
    "    quote_simple(url='http://localhost:5566/quote/uniform?part=100')\n",
    ")"
   ]
  },
  {
   "cell_type": "markdown",
   "metadata": {},
   "source": [
    "## Multiple Concurrent Requests"
   ]
  },
  {
   "cell_type": "code",
   "execution_count": 13,
   "metadata": {
    "collapsed": false
   },
   "outputs": [],
   "source": [
    "@asyncio.coroutine\n",
    "def quote_many_naive(num_quotes=1):\n",
    "    coroutines = [\n",
    "        quote_simple(slow=True) for i in range(num_quotes)\n",
    "    ]\n",
    "    quotes = yield from (asyncio.gather(*coroutines))\n",
    "    return quotes"
   ]
  },
  {
   "cell_type": "code",
   "execution_count": 14,
   "metadata": {
    "collapsed": false
   },
   "outputs": [
    {
     "name": "stdout",
     "output_type": "stream",
     "text": [
      "CPU times: user 2.05 s, sys: 240 ms, total: 2.29 s\n",
      "Wall time: 4.56 s\n"
     ]
    }
   ],
   "source": [
    "%%time\n",
    "quotes = loop.run_until_complete(quote_many_naive(2000))"
   ]
  },
  {
   "cell_type": "markdown",
   "metadata": {},
   "source": [
    "This is not helping since we open 2000 connections at a time. It is slower than expected."
   ]
  },
  {
   "cell_type": "markdown",
   "metadata": {},
   "source": [
    "### Limiting connection pool size\n",
    "\n",
    "Ref on [official site](http://aiohttp.readthedocs.org/en/latest/client.html#limiting-connection-pool-size)."
   ]
  },
  {
   "cell_type": "code",
   "execution_count": 15,
   "metadata": {
    "collapsed": false
   },
   "outputs": [],
   "source": [
    "@asyncio.coroutine\n",
    "def quote(conn, url='http://localhost:5566/quote/uniform', slow=False):\n",
    "    r = yield from aiohttp.request(\n",
    "        'GET', url, params={'slow': True} if slow else {},\n",
    "        connector=conn\n",
    "    )\n",
    "    if r.status != 200:\n",
    "        logger.error('Unsuccessful response [Status: %s (%d)]' \n",
    "                     % (r.reason, r.status))\n",
    "        r.close(force=True)\n",
    "        return None\n",
    "    quote_json = yield from r.json()\n",
    "    r.close(force=True)\n",
    "    return quote_json['quote']\n",
    "\n",
    "@asyncio.coroutine\n",
    "def quote_many(num_quotes=1, conn_limit=20):\n",
    "    conn = aiohttp.TCPConnector(keepalive_timeout=1, force_close=True, limit=conn_limit)\n",
    "    coroutines = [\n",
    "        quote(conn) for i in range(num_quotes)\n",
    "    ]\n",
    "    quotes = yield from (asyncio.gather(*coroutines))\n",
    "    return quotes"
   ]
  },
  {
   "cell_type": "code",
   "execution_count": 16,
   "metadata": {
    "collapsed": false
   },
   "outputs": [
    {
     "name": "stdout",
     "output_type": "stream",
     "text": [
      "CPU times: user 1.88 s, sys: 196 ms, total: 2.08 s\n",
      "Wall time: 3.79 s\n"
     ]
    }
   ],
   "source": [
    "%%time\n",
    "quotes = loop.run_until_complete(quote_many(2000, conn_limit=100))"
   ]
  },
  {
   "cell_type": "markdown",
   "metadata": {},
   "source": [
    "I don't know why, but using its internal connection limit is slow. But we can implement one ourselves."
   ]
  },
  {
   "cell_type": "markdown",
   "metadata": {},
   "source": [
    "### Custom connection limit using semaphore\n",
    "\n",
    "Use [`asyncio.Semaphore`] acting as a lock.\n",
    "\n",
    "[`asyncio.Semaphore`]: https://docs.python.org/3.4/library/asyncio-sync.html#asyncio.Semaphore"
   ]
  },
  {
   "cell_type": "code",
   "execution_count": 17,
   "metadata": {
    "collapsed": false
   },
   "outputs": [],
   "source": [
    "def quote_with_lock(semaphore, url='http://localhost:5566/quote/uniform'):\n",
    "    with (yield from semaphore):\n",
    "        r = yield from aiohttp.request('GET', url)\n",
    "        if r.status != 200:\n",
    "            logger.error('Unsuccessful response [Status: %s (%d)]' \n",
    "                         % (r.reason, r.status))\n",
    "            r.close(force=True)\n",
    "            return None\n",
    "        quote_json = yield from r.json()\n",
    "    r.close(force=True)\n",
    "    return quote_json['quote']\n",
    "\n",
    "@asyncio.coroutine\n",
    "def quote_many(num_quotes=1, conn_limit=20):\n",
    "    semaphore = asyncio.Semaphore(conn_limit)\n",
    "    coroutines = [\n",
    "        quote_with_lock(semaphore) for i in range(num_quotes)\n",
    "    ]\n",
    "    quotes = yield from (asyncio.gather(*coroutines))\n",
    "    return quotes"
   ]
  },
  {
   "cell_type": "code",
   "execution_count": 18,
   "metadata": {
    "collapsed": false
   },
   "outputs": [
    {
     "name": "stdout",
     "output_type": "stream",
     "text": [
      "CPU times: user 1.96 s, sys: 212 ms, total: 2.17 s\n",
      "Wall time: 1.97 s\n"
     ]
    }
   ],
   "source": [
    "%%time\n",
    "quotes = loop.run_until_complete(quote_many(2000, conn_limit=100))"
   ]
  },
  {
   "cell_type": "markdown",
   "metadata": {},
   "source": [
    "## Add Progressbar"
   ]
  },
  {
   "cell_type": "markdown",
   "metadata": {},
   "source": [
    "If you don't care the original of coroutines"
   ]
  },
  {
   "cell_type": "code",
   "execution_count": 19,
   "metadata": {
    "collapsed": false
   },
   "outputs": [],
   "source": [
    "@asyncio.coroutine\n",
    "def quote_many(num_quotes=1, conn_limit=20, progress=None, step=10):\n",
    "    if progress is None:\n",
    "        progress = widgets.IntProgress()\n",
    "        progress.max = num_quotes // step\n",
    "        ipydisplay(progress)\n",
    "    semaphore = asyncio.Semaphore(conn_limit)\n",
    "    coroutines = [\n",
    "        quote_with_lock(semaphore) for i in range(num_quotes)\n",
    "    ]\n",
    "    # quotes = yield from (asyncio.gather(*coroutines))\n",
    "    quotes = []\n",
    "    for ith, coro in enumerate(asyncio.as_completed(coroutines), 1):\n",
    "        if ith % step == 0:\n",
    "            progress.value += 1\n",
    "        q = yield from coro\n",
    "        quotes.append(q)\n",
    "    return quotes"
   ]
  },
  {
   "cell_type": "code",
   "execution_count": 20,
   "metadata": {
    "collapsed": false
   },
   "outputs": [
    {
     "name": "stdout",
     "output_type": "stream",
     "text": [
      "CPU times: user 2.61 s, sys: 324 ms, total: 2.93 s\n",
      "Wall time: 2.67 s\n"
     ]
    }
   ],
   "source": [
    "%%time\n",
    "quotes = loop.run_until_complete(quote_many(2000, conn_limit=100, step=1))"
   ]
  },
  {
   "cell_type": "markdown",
   "metadata": {},
   "source": [
    "For fast response, progress bar introduces considerable latency. Try modify the step higher."
   ]
  },
  {
   "cell_type": "code",
   "execution_count": 21,
   "metadata": {
    "collapsed": false
   },
   "outputs": [
    {
     "name": "stdout",
     "output_type": "stream",
     "text": [
      "CPU times: user 1.94 s, sys: 204 ms, total: 2.14 s\n",
      "Wall time: 1.96 s\n"
     ]
    }
   ],
   "source": [
    "%%time\n",
    "quotes = loop.run_until_complete(quote_many(2000, conn_limit=100, step=20))"
   ]
  },
  {
   "cell_type": "markdown",
   "metadata": {},
   "source": [
    "### Original order matters\n",
    "\n",
    "... go eat yourself."
   ]
  },
  {
   "cell_type": "code",
   "execution_count": 22,
   "metadata": {
    "collapsed": false
   },
   "outputs": [],
   "source": [
    "@asyncio.coroutine\n",
    "def quote_many(num_quotes=1, conn_limit=20, progress=None, step=10):\n",
    "    if progress is None:\n",
    "        progress = widgets.IntProgress()\n",
    "        progress.max = num_quotes // step\n",
    "        ipydisplay(progress)\n",
    "\n",
    "    # create the lock\n",
    "    semaphore = asyncio.Semaphore(conn_limit)\n",
    "\n",
    "    finished_task_count = 0\n",
    "    def progress_adder(fut):\n",
    "        nonlocal finished_task_count\n",
    "        finished_task_count += 1\n",
    "        if finished_task_count % step == 0:\n",
    "            progress.value += 1\n",
    "    \n",
    "    # wrap coroutines as Tasks\n",
    "    futures = []\n",
    "    for i in range(num_quotes):\n",
    "        task = asyncio.Task(quote_with_lock(semaphore))\n",
    "        task.add_done_callback(progress_adder)\n",
    "        futures.append(task)\n",
    "    \n",
    "    quotes = yield from (asyncio.gather(*futures))\n",
    "    return quotes"
   ]
  },
  {
   "cell_type": "code",
   "execution_count": 23,
   "metadata": {
    "collapsed": false
   },
   "outputs": [
    {
     "name": "stdout",
     "output_type": "stream",
     "text": [
      "CPU times: user 2.64 s, sys: 364 ms, total: 3 s\n",
      "Wall time: 2.75 s\n"
     ]
    }
   ],
   "source": [
    "%%time\n",
    "quotes = loop.run_until_complete(quote_many(2000, conn_limit=100, step=1))"
   ]
  },
  {
   "cell_type": "code",
   "execution_count": 24,
   "metadata": {
    "collapsed": false
   },
   "outputs": [
    {
     "name": "stdout",
     "output_type": "stream",
     "text": [
      "CPU times: user 1.88 s, sys: 264 ms, total: 2.15 s\n",
      "Wall time: 1.98 s\n"
     ]
    }
   ],
   "source": [
    "%%time\n",
    "quotes = loop.run_until_complete(quote_many(2000, conn_limit=100, step=20))"
   ]
  },
  {
   "cell_type": "markdown",
   "metadata": {},
   "source": [
    "### Alternative way"
   ]
  },
  {
   "cell_type": "code",
   "execution_count": 25,
   "metadata": {
    "collapsed": true
   },
   "outputs": [],
   "source": [
    "@asyncio.coroutine\n",
    "def quote_many(num_quotes=1, conn_limit=20, progress=None, step=10):\n",
    "    if progress is None:\n",
    "        progress = widgets.IntProgress()\n",
    "        progress.max = num_quotes // step\n",
    "        ipydisplay(progress)\n",
    "    \n",
    "    semaphore = asyncio.Semaphore(conn_limit)\n",
    "    \n",
    "    # wrap coroutines with future\n",
    "    # For Python 3.4.4+, asyncio.ensure_future(...)\n",
    "    # will wrap coro as Task and keep input the same \n",
    "    # if it is already Future.\n",
    "    futures = [\n",
    "        asyncio.ensure_future(quote_with_lock(semaphore))\n",
    "        for i in range(num_quotes)\n",
    "    ]\n",
    "\n",
    "    for ith, coro in enumerate(asyncio.as_completed(futures), 1):\n",
    "        if ith % step == 0:\n",
    "            progress.value += 1\n",
    "        yield from coro\n",
    "        \n",
    "    quotes = [fut.result() for fut in futures]\n",
    "    return quotes"
   ]
  },
  {
   "cell_type": "code",
   "execution_count": 26,
   "metadata": {
    "collapsed": false
   },
   "outputs": [
    {
     "name": "stdout",
     "output_type": "stream",
     "text": [
      "CPU times: user 1.91 s, sys: 276 ms, total: 2.19 s\n",
      "Wall time: 2.02 s\n"
     ]
    }
   ],
   "source": [
    "%%time\n",
    "quotes = loop.run_until_complete(quote_many(2000, conn_limit=100, step=20))"
   ]
  }
 ],
 "metadata": {
  "kernelspec": {
   "display_name": "Python 3",
   "language": "python",
   "name": "python3"
  },
  "language_info": {
   "codemirror_mode": {
    "name": "ipython",
    "version": 3
   },
   "file_extension": ".py",
   "mimetype": "text/x-python",
   "name": "python",
   "nbconvert_exporter": "python",
   "pygments_lexer": "ipython3",
   "version": "3.4.3+"
  }
 },
 "nbformat": 4,
 "nbformat_minor": 0
}
